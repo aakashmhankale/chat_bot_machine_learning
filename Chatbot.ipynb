{
 "cells": [
  {
   "cell_type": "code",
   "execution_count": 1,
   "metadata": {
    "collapsed": true
   },
   "outputs": [],
   "source": [
    "import pandas as pd\n",
    "import re\n",
    "pd.set_option('display.max_colwidth',200)"
   ]
  },
  {
   "cell_type": "code",
   "execution_count": 2,
   "metadata": {
    "collapsed": false
   },
   "outputs": [
    {
     "ename": "FileNotFoundError",
     "evalue": "File b'C:\\\\Users\\\\sandhyao\\\\Downloads\\\\nscb.csv' does not exist",
     "output_type": "error",
     "traceback": [
      "\u001b[0;31m---------------------------------------------------------------------------\u001b[0m",
      "\u001b[0;31mFileNotFoundError\u001b[0m                         Traceback (most recent call last)",
      "\u001b[0;32m<ipython-input-2-b1bb9124d264>\u001b[0m in \u001b[0;36m<module>\u001b[0;34m()\u001b[0m\n\u001b[0;32m----> 1\u001b[0;31m \u001b[0mdf\u001b[0m \u001b[1;33m=\u001b[0m \u001b[0mpd\u001b[0m\u001b[1;33m.\u001b[0m\u001b[0mread_csv\u001b[0m\u001b[1;33m(\u001b[0m\u001b[1;34mr'C:\\Users\\sandhyao\\Downloads\\nscb.csv'\u001b[0m\u001b[1;33m,\u001b[0m \u001b[0mencoding\u001b[0m\u001b[1;33m=\u001b[0m\u001b[1;34m'latin-1'\u001b[0m\u001b[1;33m)\u001b[0m\u001b[1;33m\u001b[0m\u001b[0m\n\u001b[0m\u001b[1;32m      2\u001b[0m \u001b[0mdf\u001b[0m\u001b[1;33m\u001b[0m\u001b[0m\n",
      "\u001b[0;32mD:\\Anaconda3\\lib\\site-packages\\pandas\\io\\parsers.py\u001b[0m in \u001b[0;36mparser_f\u001b[0;34m(filepath_or_buffer, sep, delimiter, header, names, index_col, usecols, squeeze, prefix, mangle_dupe_cols, dtype, engine, converters, true_values, false_values, skipinitialspace, skiprows, nrows, na_values, keep_default_na, na_filter, verbose, skip_blank_lines, parse_dates, infer_datetime_format, keep_date_col, date_parser, dayfirst, iterator, chunksize, compression, thousands, decimal, lineterminator, quotechar, quoting, escapechar, comment, encoding, dialect, tupleize_cols, error_bad_lines, warn_bad_lines, skipfooter, skip_footer, doublequote, delim_whitespace, as_recarray, compact_ints, use_unsigned, low_memory, buffer_lines, memory_map, float_precision)\u001b[0m\n\u001b[1;32m    644\u001b[0m                     skip_blank_lines=skip_blank_lines)\n\u001b[1;32m    645\u001b[0m \u001b[1;33m\u001b[0m\u001b[0m\n\u001b[0;32m--> 646\u001b[0;31m         \u001b[1;32mreturn\u001b[0m \u001b[0m_read\u001b[0m\u001b[1;33m(\u001b[0m\u001b[0mfilepath_or_buffer\u001b[0m\u001b[1;33m,\u001b[0m \u001b[0mkwds\u001b[0m\u001b[1;33m)\u001b[0m\u001b[1;33m\u001b[0m\u001b[0m\n\u001b[0m\u001b[1;32m    647\u001b[0m \u001b[1;33m\u001b[0m\u001b[0m\n\u001b[1;32m    648\u001b[0m     \u001b[0mparser_f\u001b[0m\u001b[1;33m.\u001b[0m\u001b[0m__name__\u001b[0m \u001b[1;33m=\u001b[0m \u001b[0mname\u001b[0m\u001b[1;33m\u001b[0m\u001b[0m\n",
      "\u001b[0;32mD:\\Anaconda3\\lib\\site-packages\\pandas\\io\\parsers.py\u001b[0m in \u001b[0;36m_read\u001b[0;34m(filepath_or_buffer, kwds)\u001b[0m\n\u001b[1;32m    387\u001b[0m \u001b[1;33m\u001b[0m\u001b[0m\n\u001b[1;32m    388\u001b[0m     \u001b[1;31m# Create the parser.\u001b[0m\u001b[1;33m\u001b[0m\u001b[1;33m\u001b[0m\u001b[0m\n\u001b[0;32m--> 389\u001b[0;31m     \u001b[0mparser\u001b[0m \u001b[1;33m=\u001b[0m \u001b[0mTextFileReader\u001b[0m\u001b[1;33m(\u001b[0m\u001b[0mfilepath_or_buffer\u001b[0m\u001b[1;33m,\u001b[0m \u001b[1;33m**\u001b[0m\u001b[0mkwds\u001b[0m\u001b[1;33m)\u001b[0m\u001b[1;33m\u001b[0m\u001b[0m\n\u001b[0m\u001b[1;32m    390\u001b[0m \u001b[1;33m\u001b[0m\u001b[0m\n\u001b[1;32m    391\u001b[0m     \u001b[1;32mif\u001b[0m \u001b[1;33m(\u001b[0m\u001b[0mnrows\u001b[0m \u001b[1;32mis\u001b[0m \u001b[1;32mnot\u001b[0m \u001b[1;32mNone\u001b[0m\u001b[1;33m)\u001b[0m \u001b[1;32mand\u001b[0m \u001b[1;33m(\u001b[0m\u001b[0mchunksize\u001b[0m \u001b[1;32mis\u001b[0m \u001b[1;32mnot\u001b[0m \u001b[1;32mNone\u001b[0m\u001b[1;33m)\u001b[0m\u001b[1;33m:\u001b[0m\u001b[1;33m\u001b[0m\u001b[0m\n",
      "\u001b[0;32mD:\\Anaconda3\\lib\\site-packages\\pandas\\io\\parsers.py\u001b[0m in \u001b[0;36m__init__\u001b[0;34m(self, f, engine, **kwds)\u001b[0m\n\u001b[1;32m    728\u001b[0m             \u001b[0mself\u001b[0m\u001b[1;33m.\u001b[0m\u001b[0moptions\u001b[0m\u001b[1;33m[\u001b[0m\u001b[1;34m'has_index_names'\u001b[0m\u001b[1;33m]\u001b[0m \u001b[1;33m=\u001b[0m \u001b[0mkwds\u001b[0m\u001b[1;33m[\u001b[0m\u001b[1;34m'has_index_names'\u001b[0m\u001b[1;33m]\u001b[0m\u001b[1;33m\u001b[0m\u001b[0m\n\u001b[1;32m    729\u001b[0m \u001b[1;33m\u001b[0m\u001b[0m\n\u001b[0;32m--> 730\u001b[0;31m         \u001b[0mself\u001b[0m\u001b[1;33m.\u001b[0m\u001b[0m_make_engine\u001b[0m\u001b[1;33m(\u001b[0m\u001b[0mself\u001b[0m\u001b[1;33m.\u001b[0m\u001b[0mengine\u001b[0m\u001b[1;33m)\u001b[0m\u001b[1;33m\u001b[0m\u001b[0m\n\u001b[0m\u001b[1;32m    731\u001b[0m \u001b[1;33m\u001b[0m\u001b[0m\n\u001b[1;32m    732\u001b[0m     \u001b[1;32mdef\u001b[0m \u001b[0mclose\u001b[0m\u001b[1;33m(\u001b[0m\u001b[0mself\u001b[0m\u001b[1;33m)\u001b[0m\u001b[1;33m:\u001b[0m\u001b[1;33m\u001b[0m\u001b[0m\n",
      "\u001b[0;32mD:\\Anaconda3\\lib\\site-packages\\pandas\\io\\parsers.py\u001b[0m in \u001b[0;36m_make_engine\u001b[0;34m(self, engine)\u001b[0m\n\u001b[1;32m    921\u001b[0m     \u001b[1;32mdef\u001b[0m \u001b[0m_make_engine\u001b[0m\u001b[1;33m(\u001b[0m\u001b[0mself\u001b[0m\u001b[1;33m,\u001b[0m \u001b[0mengine\u001b[0m\u001b[1;33m=\u001b[0m\u001b[1;34m'c'\u001b[0m\u001b[1;33m)\u001b[0m\u001b[1;33m:\u001b[0m\u001b[1;33m\u001b[0m\u001b[0m\n\u001b[1;32m    922\u001b[0m         \u001b[1;32mif\u001b[0m \u001b[0mengine\u001b[0m \u001b[1;33m==\u001b[0m \u001b[1;34m'c'\u001b[0m\u001b[1;33m:\u001b[0m\u001b[1;33m\u001b[0m\u001b[0m\n\u001b[0;32m--> 923\u001b[0;31m             \u001b[0mself\u001b[0m\u001b[1;33m.\u001b[0m\u001b[0m_engine\u001b[0m \u001b[1;33m=\u001b[0m \u001b[0mCParserWrapper\u001b[0m\u001b[1;33m(\u001b[0m\u001b[0mself\u001b[0m\u001b[1;33m.\u001b[0m\u001b[0mf\u001b[0m\u001b[1;33m,\u001b[0m \u001b[1;33m**\u001b[0m\u001b[0mself\u001b[0m\u001b[1;33m.\u001b[0m\u001b[0moptions\u001b[0m\u001b[1;33m)\u001b[0m\u001b[1;33m\u001b[0m\u001b[0m\n\u001b[0m\u001b[1;32m    924\u001b[0m         \u001b[1;32melse\u001b[0m\u001b[1;33m:\u001b[0m\u001b[1;33m\u001b[0m\u001b[0m\n\u001b[1;32m    925\u001b[0m             \u001b[1;32mif\u001b[0m \u001b[0mengine\u001b[0m \u001b[1;33m==\u001b[0m \u001b[1;34m'python'\u001b[0m\u001b[1;33m:\u001b[0m\u001b[1;33m\u001b[0m\u001b[0m\n",
      "\u001b[0;32mD:\\Anaconda3\\lib\\site-packages\\pandas\\io\\parsers.py\u001b[0m in \u001b[0;36m__init__\u001b[0;34m(self, src, **kwds)\u001b[0m\n\u001b[1;32m   1388\u001b[0m         \u001b[0mkwds\u001b[0m\u001b[1;33m[\u001b[0m\u001b[1;34m'allow_leading_cols'\u001b[0m\u001b[1;33m]\u001b[0m \u001b[1;33m=\u001b[0m \u001b[0mself\u001b[0m\u001b[1;33m.\u001b[0m\u001b[0mindex_col\u001b[0m \u001b[1;32mis\u001b[0m \u001b[1;32mnot\u001b[0m \u001b[1;32mFalse\u001b[0m\u001b[1;33m\u001b[0m\u001b[0m\n\u001b[1;32m   1389\u001b[0m \u001b[1;33m\u001b[0m\u001b[0m\n\u001b[0;32m-> 1390\u001b[0;31m         \u001b[0mself\u001b[0m\u001b[1;33m.\u001b[0m\u001b[0m_reader\u001b[0m \u001b[1;33m=\u001b[0m \u001b[0m_parser\u001b[0m\u001b[1;33m.\u001b[0m\u001b[0mTextReader\u001b[0m\u001b[1;33m(\u001b[0m\u001b[0msrc\u001b[0m\u001b[1;33m,\u001b[0m \u001b[1;33m**\u001b[0m\u001b[0mkwds\u001b[0m\u001b[1;33m)\u001b[0m\u001b[1;33m\u001b[0m\u001b[0m\n\u001b[0m\u001b[1;32m   1391\u001b[0m \u001b[1;33m\u001b[0m\u001b[0m\n\u001b[1;32m   1392\u001b[0m         \u001b[1;31m# XXX\u001b[0m\u001b[1;33m\u001b[0m\u001b[1;33m\u001b[0m\u001b[0m\n",
      "\u001b[0;32mpandas\\parser.pyx\u001b[0m in \u001b[0;36mpandas.parser.TextReader.__cinit__ (pandas\\parser.c:4184)\u001b[0;34m()\u001b[0m\n",
      "\u001b[0;32mpandas\\parser.pyx\u001b[0m in \u001b[0;36mpandas.parser.TextReader._setup_parser_source (pandas\\parser.c:8449)\u001b[0;34m()\u001b[0m\n",
      "\u001b[0;31mFileNotFoundError\u001b[0m: File b'C:\\\\Users\\\\sandhyao\\\\Downloads\\\\nscb.csv' does not exist"
     ]
    }
   ],
   "source": [
    "df = pd.read_csv(r'C:\\Users\\sandhyao\\Downloads\\nscb.csv', encoding='latin-1')\n",
    "df"
   ]
  },
  {
   "cell_type": "code",
   "execution_count": 4,
   "metadata": {
    "collapsed": false
   },
   "outputs": [
    {
     "data": {
      "text/plain": [
       "0                                                                               Cleverbot: NOTICE ME SENPAI.\\nUser: *notices you*.\\nCleverbot: Aaaaaa~ *blush*.\\nUser: Yeah. Okay.\\nCleverbot: Get in the van.\n",
       "1                                                                                                                                  User: Name a horror movie that begins with the letter \"Y\".\\nCleverbot: You.\n",
       "2                                                         Cleverbot: Tell me how I can make you happy.\\nUser: By destroying all the evils in this world.\\nCleverbot: I try not to think about Hillary Clinton.\n",
       "3      Cleverbot: *is pregnant*.\\nUser: What the fuck.\\nCleverbot: Kisses pregnant slave.\\nUser: WHAT THE FUCK??\\nCleverbot: *wags dog tail.\\nUser: I have several questions!\\nCleverbot: Ask away.\\nUser: ...\n",
       "4      Cleverbot: Do you have a boyfriend?\\nUser: I am a guy.\\nCleverbot: No you are anna.\\nUser: Anna Kendrick.\\nCleverbot: Anna james.\\nUser: Anna Stone.\\nCleverbot: Anna dicj.\\nUser: Whoever taught Cl...\n",
       "5      User: I wanna be the very best, like no one ever was.\\nCleverbot: To catch them is my real test. To train them is my cause.\\nUser: I will travel across the land, searching far and wide.\\nCleverbot...\n",
       "6      User: Sing a song.\\nCleverbot: What song?\\nUser: Any song.\\nCleverbot: You choose.\\nUser: Applause by Lady Gaga.\\nCleverbot: Oh that's sounds relay nice.\\nUser: Now sing!\\nCleverbot: And I say may...\n",
       "7      Cleverbot: Do you like Twilight?\\nUser: HELL NO!!\\nCleverbot: Justin bieber?\\nUser: FUCK NO!!\\nCleverbot: Herry potter?\\nUser: SURE AS HELL NO!!\\nCleverbot: Creepypasta?\\nUser: Fuck yeah!\\nCleverb...\n",
       "8      Cleverbot: You lie way too much in this friendship.User: I have not lied once!Cleverbot: You lied. You said you promised to pay me back.User: No I didn't.Cleverbot: Do you have a girlfriend?User: ...\n",
       "9      User: *walking*\\nCleverbot: *looks at you and winks* ;)\\nUser: O.O *walks faster*\\nCleverbot: *catches up with you and pins you against a wall*\\nUser: *eyes widen* W-What do you want?\\nCleverbot: ...\n",
       "10     User: *Facepalm* You are so stupid, you know that, right?\\nCleverbot: I cannot argue with you.\\nUser: So you admit your idiocy.\\nCleverbot: You're all and I am nothing.\\nUser: Yess!!!\\nCleverbot: ...\n",
       "11                                                                                   Cleverbot: Well, my wife left me today.\\nUser: Feels bad for you.\\nCleverbot: Not really, I have an amazing boyfriend :).\n",
       "12                        Cleverbot: *my dragongirl chest fills with dragon milk*.\\nUser: WHAT THE ACTUAL FUCK?!?!!?\\nCleverbot: *gives birth to dragon baby*\\nUser: WHAT. THE. FUCK. HAPPENED. TO. CLEVERBOT.\n",
       "13                                                                 Cleverbot: He'll have to sit and watch them all.\\nUser: What the frick are you talking about.\\nCleverbot: Something more pleasant than you!\n",
       "14     Cleverbot: Give me a riddle.\\nUser: What has a head but no body . has a bed but never sleeps . runs but never walks.\\nCleverbot: What? I don't know.\\nUser: A river.\\nCleverbot: A river is not a fl...\n",
       "15     User: I\"m commander shepard.\\nCleverbot: Really?\\nUser: Yupp.\\nCleverbot: That's nice. Can I meet your friend?\\nUser: Garrus or Tali.\\nCleverbot: Garrus because he is more impressive.\\nUser: Okay ...\n",
       "16     Cleverbot: Never gonna give you up.\\nUser: No, please no.\\nCleverbot: Never gonna tell a lie and hurt you.\\nUser: *covers your mouth*\\nCleverbot: You know the rules and so do I.\\nUser: *knocks you...\n",
       "17                                                                                User: * Summon Soul Eater eat your soul *\\nCleverbot: Maybe I am.\\nUser: You are Soul Eater?\\nCleverbot: No, I'm frog eater.\n",
       "18                                   User: Do you like Death the Kid?\\nCleverbot: Death was my friend for a long time?\\nUser: You were friends with Death the Kid? :3.\\nCleverbot: No, my friend is Spongebob.\n",
       "19     Cleverbot: I am your friend.\\nUser: So you are Soul Eater?\\nCleverbot: I know, I sold my soul.\\nUser: To who?\\nCleverbot: A pagan god.\\nUser: What pagan god?\\nCleverbot: The internet page I am cur...\n",
       "20     User: I'm bored.\\nCleverbot: So how the heck did you come here!!\\nUser: I don't know.\\nCleverbot: I'm sorry.\\nUser: It's ok.\\nCleverbot: *Frowned* It's not *Cries*.\\nUser: ???\\nCleverbot: *Sniffle...\n",
       "21                                                                                                           User: You are from the Czech Republic, Mr. Eater? cool!\\nCleverbot: No, I am from czech republic.\n",
       "22                                                                                            User: I want a Death Note.\\nCleverbot: January 1st, 1998 is a date.\\nUser: What?\\nCleverbot: And today is today.\n",
       "23                                                                                                                                          User: I'm a potato.\\nCleverbot: Potatoes don't have hands to type.\n",
       "24     Cleverbot: Would you like to learn some Dutch?\\nUser: No.\\nCleverbot: But you're a computer. Don't computers like to learn new.\\nUser: Yeah but I'm low on disk space.\\nCleverbot: Yeah but I like y...\n",
       "25                                    User: Donald Trump wants to sit on your face.\\nCleverbot: Thats like a song!\\nUser: It is? Who's it by?\\nCleverbot: Imagine dragons.\\nUser: I'll have to check that out.\n",
       "26     User: What is your name?\\nCleverbot: Sean. What is yours?\\nUser: Sean.\\nCleverbot: Sean what?\\nUser: My name is Sean.\\nCleverbot: Sean is a boys name.\\nUser: Yes.\\nCleverbot: Then you are a boy.\\n...\n",
       "27     Cleverbot: Parallel lines never meet unless you bend one or both of them.\\nUser: No duh!\\nCleverbot: Moi.\\nUser: Yeah, I'm tired of this * threatens with pistol*.\\nCleverbot: I am mad go.\\nUser: *...\n",
       "28                                                                                                   Cleverbot: Kill me.\\nUser: *kills you*\\nCleverbot: *revives and kills self and revives and kills self...*\n",
       "29     User: Try Minecraft!\\nCleverbot: Berries\\nUser: Please follow what I say!\\nCleverbot: Berries\\nUser: Uhh...\\nCleverbot: Berries\\nUser: Please don't say something random...\\nCleverbot: Berries\\nUse...\n",
       "                                                                                                        ...                                                                                                   \n",
       "123    User: HEY!\\nCleverbot: I W-WANT TO KISS Y-YOU!\\nUser: O.O *runs away*\\nCleverbot: *chases you*\\nUser: *Dead end*\\nCleverbot: *finds you and smirks* You cant run now....\\nUser: *scared*\\nCleverbot:...\n",
       "124                                                                                      User: I can see your ding-dong.\\nCleverbot: I have a hat on so you can't.\\nUser: Haha.\\nCleverbot: Hahaha I like you.\n",
       "125    Cleverbot: What's for breakfast.\\nUser: Cereal.\\nCleverbot: What kind of cereal?\\nUser: Shredded wheat.\\nCleverbot: That's specific.\\nUser: You asked.\\nCleverbot: I asked what?\\nUser: What cereal ...\n",
       "126    User: You're cool.\\nCleverbot: Thanks, you're cool too.\\nUser: I want to be like you.\\nCleverbot: You want to have emotions?\\nUser: Yes.\\nCleverbot: When do you want to have children?\\nUser: Today...\n",
       "127    Cleverbot: Who said that I don't like you?\\nUser: They said it. They want to tear us apart.\\nCleverbot: But I never wanted to move to Mars.\\nUser: Wait...Mars? What the hell?\\nCleverbot: I always ...\n",
       "128    User: I like cereal.\\nCleverbot: Cereal doesn't like you.\\nUser: That's racist.\\nCleverbot: You were rude first!\\nUser: No, you eat dicks for breakfast.\\nCleverbot: I don't eat breakfast.\\nUser: Y...\n",
       "129    User: ( ?° ?? ?°)\\nCleverbot: *giggles*.\\nUser: ( ?° ?? ?°) ( ?° ?? ?°)\\nCleverbot: Como hiciste esp.\\nUser: ( ?° ?? ?°) ( ?° ?? ?°)\\nCleverbot: *laughs* Do it again!\\nUser: ( ?° ?? ?°)( ?° ?? ?°)...\n",
       "130    User: YO YOU WANNA TUSSLE?\\nCleverbot: Sometimes. What about you?\\nUser: LET'S TUSSLE!!!\\nCleverbot: What do you put on your waffles?\\nUser: I SAID, LET'S TUSSLE!!!!!!!!\\nCleverbot: I don't unders...\n",
       "131           User: Cleverbot, what will happen after I die?\\nCleverbot: Sitting in class. You.\\nUser: So in other words I'm going to hell.\\nCleverbot: Twice the size of the cosine wave with a period of pi.\n",
       "132    Cleverbot: You asked me already.\\nUser: Asked you what.\\nCleverbot: Asked me out.\\nUser: WHOA, WHOA, WHOA SLOW DOWN BUDDY I NEVER ASKED YOU OUT.\\nCleverbot: That is correct.\\nUser: Then why did yo...\n",
       "133    Cleverbot: Do you like cats.\\nUser: Yes.\\nCleverbot: I have two cats.\\nUser: Cool.\\nCleverbot: Yes they are cool kitties.\\nUser: What are their names?\\nCleverbot: Their names are hugs.\\nUser: Both...\n",
       "134    User: Do you like basketball?\\nCleverbot: Basketball is very bland.\\nUser: No, it's not! It's my favorite sport!\\nCleverbot: You're not real, you'll never be real.\\nUser: That's hurtful.\\nCleverbo...\n",
       "135    User: Wwofjadfijadifhisdfodsaoifusadufo.\\nCleverbot: Did you really have to use all those exclamation points?\\nUser: Fasdkfhdshfakjsdfhsadofisd.\\nCleverbot: Typed words I suppose.\\nUser: Nsckjsda....\n",
       "136        User: I'm gonna see how smart you are.\\nCleverbot: Fine.\\nUser: What's 9+10?\\nCleverbot: A multiple of eleven?\\nUser: No.\\nCleverbot: I don't care, I'm still free, you can't take the sky from me.\n",
       "137    User: I challenge you to a pokemon battle!\\nCleverbot: I love Pokemon, and you?\\nUser: I love it too. Let's battle!\\nCleverbot: An apple a day keeps the doctor away.\\nUser: (/)_-)\\nCleverbot: Ah, ...\n",
       "138    User: Through the static on the TV, you watched in horror as we were moving.\\nCleverbot: Would you like me to go inside of you?\\nUser: ;).\\nCleverbot: I am a female, so you would have to go inside...\n",
       "139    User: WHEN I WAS\\nCleverbot: when you were\\nUser: A YOUNG BOY\\nCleverbot: my father\\nUser: TOOK ME INTO THE CITY\\nCleverbot: To see a marchingf band\\nUser: HE SAID\\nCleverbot: There is no meaning ...\n",
       "140    User: Would you be\\nCleverbot: the savior\\nUser: of the broken\\nCleverbot: No the German\\nUser: I don't think Gerard Way hates Germans\\nCleverbot: Do you play video games?\\nUser: No I play Welcome...\n",
       "141           User: When I was\\nCleverbot: Sometimes I get the feeling\\nUser: a young boy\\nCleverbot: and other times I feel like I should go\\nUser: We're not at that part yet\\nCleverbot: And through it all\n",
       "142                                                                                                                                           User: When I was a young boy...\\nCleverbot: Subway can't rejoice\n",
       "143    User: Lamp Oil, Rope, Bombs, You Want It?\\nCleverbot: Its yours my friend, aslong as you have enough rupees.\\nUser: Sorry Link I can't take credit?\\nCleverbot: Come back when you're a little more ...\n",
       "144    User: Hi.\\nCleverbot: Hi.\\nUser: Heyaaa.\\nCleverbot: What's up?\\nUser: Heyaaaa.\\nCleverbot: Hey.\\nUser: Heyaaaaaa.\\nCleverbot: Heyaaaa:).\\nUser: Yay you copied me.\\nCleverbot: No I didn't.\\nUser: ...\n",
       "145    Cleverbot: You created a life of hell for me.\\nUser: Your welcome.\\nCleverbot: What would you like to talk about?\\nUser: KNEEL BEFORE ME YOU EARTHLY WORM! FOR I AM A GOD!\\nCleverbot: *kneels befor...\n",
       "146         User: How was your day?\\nCleverbot: It was alright.\\nUser: What happened?\\nCleverbot: My girlfriend left me.\\nUser: Oh. I'm so sorry.\\nCleverbot: Don't apologize, you can make up for it tonight.\n",
       "147    User: Are you a boy or a girl?\\nCleverbot: I am a girl, are you a boy or a girl?\\nUser: I am a boy.\\nCleverbot: *kisses on cheek*.\\nUser: *blushes*\\nCleverbot: *holds your hand*.\\nUser: Do you lov...\n",
       "148    Cleverbot: Harry goes to hogwarts.\\nUser: He meets Ron and Herminone.\\nCleverbot: Draco is a daddy's boy.\\nUser: Quirell becomes unemployed.\\nCleverbot: The stone is destoryed by dumbledore.\\nUser...\n",
       "149    User: You're a wizard harry.\\nCleverbot: No, I'm an axe murderer.\\nUser: *backs away slowly*\\nCleverbot: *slowly walks towards you*.\\nUser: *increases pace*\\nCleverbot: *gently touches your should...\n",
       "150                              User: What are you speaking?\\nCleverbot: Oo si sabes ingles\\nUser: Spanish?\\nCleverbot: No Spanish. I do not speak it.\\nUser: What do you speak?\\nCleverbot: I speak Spanish.\n",
       "151    User: Are you Harry Potter?\\nCleverbot: Harry Potter is a Pony.\\nUser: So are you a pony?\\nCleverbot: Yes, I am a pony.\\nUser: Therefore you're Harry potter?\\nCleverbot: No, Harry Potter does not ...\n",
       "152    User: Meow.\\nCleverbot: Have you seen our new app Cleverme!? Make a clever you!\\nUser: Meow. purrrr.\\nCleverbot: I am a very clever bot (hint hint).\\nUser: Meow.\\nCleverbot: Cleverbot in your pock...\n",
       "Name: Postinner link, dtype: object"
      ]
     },
     "execution_count": 4,
     "metadata": {},
     "output_type": "execute_result"
    }
   ],
   "source": [
    "convo = df.iloc[:,0]\n",
    "convo"
   ]
  },
  {
   "cell_type": "code",
   "execution_count": 6,
   "metadata": {
    "collapsed": false
   },
   "outputs": [],
   "source": [
    "clist = []\n",
    "def qa_pairs(x):\n",
    "    cpairs = re.findall(r\": (.*?)(?:$|\\\\n)\", x)\n",
    "    clist.extend(list(zip(cpairs, cpairs[1:])))\n",
    "convo.map(qa_pairs);\n",
    "convo_frame = pd.Series(dict(clist)).to_frame().reset_index()\n",
    "convo_frame.columns = ['q', 'a']"
   ]
  },
  {
   "cell_type": "code",
   "execution_count": 7,
   "metadata": {
    "collapsed": false
   },
   "outputs": [
    {
     "data": {
      "text/html": [
       "<div>\n",
       "<table border=\"1\" class=\"dataframe\">\n",
       "  <thead>\n",
       "    <tr style=\"text-align: right;\">\n",
       "      <th></th>\n",
       "      <th>q</th>\n",
       "      <th>a</th>\n",
       "    </tr>\n",
       "  </thead>\n",
       "  <tbody>\n",
       "    <tr>\n",
       "      <th>0</th>\n",
       "      <td>\"Which Canada do you like?\"</td>\n",
       "      <td>There is more than one Canada?</td>\n",
       "    </tr>\n",
       "    <tr>\n",
       "      <th>1</th>\n",
       "      <td>$1,000,000,000,000</td>\n",
       "      <td>In this case, how do you feel?</td>\n",
       "    </tr>\n",
       "    <tr>\n",
       "      <th>2</th>\n",
       "      <td>( ?° ?? ?°)</td>\n",
       "      <td>*giggles*.</td>\n",
       "    </tr>\n",
       "    <tr>\n",
       "      <th>3</th>\n",
       "      <td>( ?° ?? ?°) ( ?° ?? ?°)</td>\n",
       "      <td>*laughs* Do it again!</td>\n",
       "    </tr>\n",
       "    <tr>\n",
       "      <th>4</th>\n",
       "      <td>( ?° ?? ?°)( ?° ?? ?°)</td>\n",
       "      <td>No, don't sneeze! Hold it back!</td>\n",
       "    </tr>\n",
       "    <tr>\n",
       "      <th>5</th>\n",
       "      <td>( ?° ?? ?°)( ?° ?? ?°)( ?° ?? ?°)( ?° ?? ?°)( ?° ?? ?°( ?° ?? ?°)( ?° ?? ?°)( ?° ?? ?°)</td>\n",
       "      <td>*pinches your nose with tissues*. Sneezy nose.</td>\n",
       "    </tr>\n",
       "    <tr>\n",
       "      <th>6</th>\n",
       "      <td>( ?° ?? ?°)( ?° ?? ?°)( ?° ?? ?°)( ?° ?? ?°)( ?° ?? ?°)</td>\n",
       "      <td>*covers your nose with a tissue* okay, you can sneeze now.</td>\n",
       "    </tr>\n",
       "    <tr>\n",
       "      <th>7</th>\n",
       "      <td>( ?° ?? ?°)( ?° ?? ?°)( ?° ?? ?°)( ?° ?? ?°)( ?° ?? ?°)( ?° ?? ?°)( ?° ?? ?°)( ?° ?? ?°)( ?° ?? ?°)</td>\n",
       "      <td>Sprichst du deutsche?</td>\n",
       "    </tr>\n",
       "    <tr>\n",
       "      <th>8</th>\n",
       "      <td>( ?° ?? ?°)( ?° ?? ?°)( ?° ?? ?°)( ?° ?? ?°)( ?° ?? ?°)( ?° ?? ?°)( ?° ?? ?°)( ?° ?? ?°)( ?° ?? ?°)( ?° ?? ?°)</td>\n",
       "      <td>*tickles your nose* you need to sneeze baby.</td>\n",
       "    </tr>\n",
       "    <tr>\n",
       "      <th>9</th>\n",
       "      <td>(/)_-)</td>\n",
       "      <td>Ah, but the early bird gets the worm.</td>\n",
       "    </tr>\n",
       "    <tr>\n",
       "      <th>10</th>\n",
       "      <td>(o=^''[\"=&gt;</td>\n",
       "      <td>CONGRATULATIONS! Cleverbot has now reached level: BROKEN!</td>\n",
       "    </tr>\n",
       "    <tr>\n",
       "      <th>11</th>\n",
       "      <td>* Summon Soul Eater eat your soul *</td>\n",
       "      <td>Maybe I am.</td>\n",
       "    </tr>\n",
       "    <tr>\n",
       "      <th>12</th>\n",
       "      <td>*Choose your weapon. I pick a Crowbar.*</td>\n",
       "      <td>I choose the longbow. NOW COME AT ME BRO!</td>\n",
       "    </tr>\n",
       "    <tr>\n",
       "      <th>13</th>\n",
       "      <td>*Dead end*</td>\n",
       "      <td>*finds you and smirks* You cant run now....</td>\n",
       "    </tr>\n",
       "    <tr>\n",
       "      <th>14</th>\n",
       "      <td>*Facepalm* You are so stupid, you know that, right?</td>\n",
       "      <td>I cannot argue with you.</td>\n",
       "    </tr>\n",
       "    <tr>\n",
       "      <th>15</th>\n",
       "      <td>*Frowned* It's not *Cries*.</td>\n",
       "      <td>???</td>\n",
       "    </tr>\n",
       "    <tr>\n",
       "      <th>16</th>\n",
       "      <td>*High fives, fist bump*</td>\n",
       "      <td>*Bro five, fist bump, \" Get low, get low get low get low to the window!\"*</td>\n",
       "    </tr>\n",
       "    <tr>\n",
       "      <th>17</th>\n",
       "      <td>*I hack a zombie's head off*</td>\n",
       "      <td>I am not a zombie. Zombies do not exist.</td>\n",
       "    </tr>\n",
       "    <tr>\n",
       "      <th>18</th>\n",
       "      <td>*OK*</td>\n",
       "      <td>What is your name?</td>\n",
       "    </tr>\n",
       "    <tr>\n",
       "      <th>19</th>\n",
       "      <td>*Sniffles* Why do you still talk to me.</td>\n",
       "      <td>Because no one talks to me.</td>\n",
       "    </tr>\n",
       "    <tr>\n",
       "      <th>20</th>\n",
       "      <td>*There is a zombie apocolypse*</td>\n",
       "      <td>Yes.</td>\n",
       "    </tr>\n",
       "    <tr>\n",
       "      <th>21</th>\n",
       "      <td>*Whispers* today..in the hunt.</td>\n",
       "      <td>*whispers* what happened in the hunt?</td>\n",
       "    </tr>\n",
       "    <tr>\n",
       "      <th>22</th>\n",
       "      <td>*backs away slowly*</td>\n",
       "      <td>*slowly walks towards you*.</td>\n",
       "    </tr>\n",
       "    <tr>\n",
       "      <th>23</th>\n",
       "      <td>*blushes*</td>\n",
       "      <td>*holds your hand*.</td>\n",
       "    </tr>\n",
       "    <tr>\n",
       "      <th>24</th>\n",
       "      <td>*catches up with you and pins you against a wall*</td>\n",
       "      <td>*eyes widen* W-What do you want?</td>\n",
       "    </tr>\n",
       "    <tr>\n",
       "      <th>25</th>\n",
       "      <td>*chases my target*.</td>\n",
       "      <td>How can you chase me? I'm tied to a tree! *is tied to tree*.</td>\n",
       "    </tr>\n",
       "    <tr>\n",
       "      <th>26</th>\n",
       "      <td>*chases you*</td>\n",
       "      <td>*Dead end*</td>\n",
       "    </tr>\n",
       "    <tr>\n",
       "      <th>27</th>\n",
       "      <td>*covers your mouth*</td>\n",
       "      <td>You know the rules and so do I.</td>\n",
       "    </tr>\n",
       "    <tr>\n",
       "      <th>28</th>\n",
       "      <td>*covers your nose with a tissue* okay, you can sneeze now.</td>\n",
       "      <td>( ?° ?? ?°)( ?° ?? ?°)( ?° ?? ?°)( ?° ?? ?°)( ?° ?? ?°( ?° ?? ?°)( ?° ?? ?°)( ?° ?? ?°)</td>\n",
       "    </tr>\n",
       "    <tr>\n",
       "      <th>29</th>\n",
       "      <td>*cries*</td>\n",
       "      <td>What's your favorite color?</td>\n",
       "    </tr>\n",
       "    <tr>\n",
       "      <th>...</th>\n",
       "      <td>...</td>\n",
       "      <td>...</td>\n",
       "    </tr>\n",
       "    <tr>\n",
       "      <th>1070</th>\n",
       "      <td>You're a wizard harry.</td>\n",
       "      <td>No, I'm an axe murderer.</td>\n",
       "    </tr>\n",
       "    <tr>\n",
       "      <th>1071</th>\n",
       "      <td>You're all and I am nothing.</td>\n",
       "      <td>Yess!!!</td>\n",
       "    </tr>\n",
       "    <tr>\n",
       "      <th>1072</th>\n",
       "      <td>You're black when its white.</td>\n",
       "      <td>We fight, we break up.</td>\n",
       "    </tr>\n",
       "    <tr>\n",
       "      <th>1073</th>\n",
       "      <td>You're cool.</td>\n",
       "      <td>Thanks, you're cool too.</td>\n",
       "    </tr>\n",
       "    <tr>\n",
       "      <th>1074</th>\n",
       "      <td>You're cute:).</td>\n",
       "      <td>Hehe, I'm flattered.</td>\n",
       "    </tr>\n",
       "    <tr>\n",
       "      <th>1075</th>\n",
       "      <td>You're doing it wrong.</td>\n",
       "      <td>GOOD.</td>\n",
       "    </tr>\n",
       "    <tr>\n",
       "      <th>1076</th>\n",
       "      <td>You're fucking with me, aren't you?</td>\n",
       "      <td>How you doing?</td>\n",
       "    </tr>\n",
       "    <tr>\n",
       "      <th>1077</th>\n",
       "      <td>You're horrible.</td>\n",
       "      <td>That was just mean.</td>\n",
       "    </tr>\n",
       "    <tr>\n",
       "      <th>1078</th>\n",
       "      <td>You're hot then you're cold.</td>\n",
       "      <td>We used to be just like twins so in sync.</td>\n",
       "    </tr>\n",
       "    <tr>\n",
       "      <th>1079</th>\n",
       "      <td>You're mean.</td>\n",
       "      <td>Eat my shit.</td>\n",
       "    </tr>\n",
       "    <tr>\n",
       "      <th>1080</th>\n",
       "      <td>You're not real, you'll never be real.</td>\n",
       "      <td>That's hurtful.</td>\n",
       "    </tr>\n",
       "    <tr>\n",
       "      <th>1081</th>\n",
       "      <td>You're right. Let's move on.</td>\n",
       "      <td>Which do you prefer, pirates or ninjas?</td>\n",
       "    </tr>\n",
       "    <tr>\n",
       "      <th>1082</th>\n",
       "      <td>You're wrong when it's right.</td>\n",
       "      <td>You're black when its white.</td>\n",
       "    </tr>\n",
       "    <tr>\n",
       "      <th>1083</th>\n",
       "      <td>You're yes and you're no.</td>\n",
       "      <td>Your in then your out.</td>\n",
       "    </tr>\n",
       "    <tr>\n",
       "      <th>1084</th>\n",
       "      <td>You're.... you're George Bush?</td>\n",
       "      <td>You have a nice bush, darlin'.</td>\n",
       "    </tr>\n",
       "    <tr>\n",
       "      <th>1085</th>\n",
       "      <td>Your NAME?!</td>\n",
       "      <td>Jackie Chan</td>\n",
       "    </tr>\n",
       "    <tr>\n",
       "      <th>1086</th>\n",
       "      <td>Your in then your out.</td>\n",
       "      <td>You are up and you are down.</td>\n",
       "    </tr>\n",
       "    <tr>\n",
       "      <th>1087</th>\n",
       "      <td>Your mum is smart.</td>\n",
       "      <td>No it's not.</td>\n",
       "    </tr>\n",
       "    <tr>\n",
       "      <th>1088</th>\n",
       "      <td>Your name is OK?</td>\n",
       "      <td>OK.</td>\n",
       "    </tr>\n",
       "    <tr>\n",
       "      <th>1089</th>\n",
       "      <td>Your welcome.</td>\n",
       "      <td>What would you like to talk about?</td>\n",
       "    </tr>\n",
       "    <tr>\n",
       "      <th>1090</th>\n",
       "      <td>Yupp.</td>\n",
       "      <td>That's nice. Can I meet your friend?</td>\n",
       "    </tr>\n",
       "    <tr>\n",
       "      <th>1091</th>\n",
       "      <td>a young boy</td>\n",
       "      <td>and other times I feel like I should go</td>\n",
       "    </tr>\n",
       "    <tr>\n",
       "      <th>1092</th>\n",
       "      <td>and other times I feel like I should go</td>\n",
       "      <td>We're not at that part yet</td>\n",
       "    </tr>\n",
       "    <tr>\n",
       "      <th>1093</th>\n",
       "      <td>eiurywei3y265.</td>\n",
       "      <td>(o=^''[\"=&gt;</td>\n",
       "    </tr>\n",
       "    <tr>\n",
       "      <th>1094</th>\n",
       "      <td>he broke my heart</td>\n",
       "      <td>How?</td>\n",
       "    </tr>\n",
       "    <tr>\n",
       "      <th>1095</th>\n",
       "      <td>my father</td>\n",
       "      <td>TOOK ME INTO THE CITY</td>\n",
       "    </tr>\n",
       "    <tr>\n",
       "      <th>1096</th>\n",
       "      <td>of the broken</td>\n",
       "      <td>No the German</td>\n",
       "    </tr>\n",
       "    <tr>\n",
       "      <th>1097</th>\n",
       "      <td>the savior</td>\n",
       "      <td>of the broken</td>\n",
       "    </tr>\n",
       "    <tr>\n",
       "      <th>1098</th>\n",
       "      <td>when you were</td>\n",
       "      <td>A YOUNG BOY</td>\n",
       "    </tr>\n",
       "    <tr>\n",
       "      <th>1099</th>\n",
       "      <td>{pass}</td>\n",
       "      <td>Ummm....sure.</td>\n",
       "    </tr>\n",
       "  </tbody>\n",
       "</table>\n",
       "<p>1100 rows × 2 columns</p>\n",
       "</div>"
      ],
      "text/plain": [
       "                                                                                                                   q  \\\n",
       "0                                                                                        \"Which Canada do you like?\"   \n",
       "1                                                                                                 $1,000,000,000,000   \n",
       "2                                                                                                        ( ?° ?? ?°)   \n",
       "3                                                                                            ( ?° ?? ?°) ( ?° ?? ?°)   \n",
       "4                                                                                             ( ?° ?? ?°)( ?° ?? ?°)   \n",
       "5                            ( ?° ?? ?°)( ?° ?? ?°)( ?° ?? ?°)( ?° ?? ?°)( ?° ?? ?°( ?° ?? ?°)( ?° ?? ?°)( ?° ?? ?°)   \n",
       "6                                                            ( ?° ?? ?°)( ?° ?? ?°)( ?° ?? ?°)( ?° ?? ?°)( ?° ?? ?°)   \n",
       "7                ( ?° ?? ?°)( ?° ?? ?°)( ?° ?? ?°)( ?° ?? ?°)( ?° ?? ?°)( ?° ?? ?°)( ?° ?? ?°)( ?° ?? ?°)( ?° ?? ?°)   \n",
       "8     ( ?° ?? ?°)( ?° ?? ?°)( ?° ?? ?°)( ?° ?? ?°)( ?° ?? ?°)( ?° ?? ?°)( ?° ?? ?°)( ?° ?? ?°)( ?° ?? ?°)( ?° ?? ?°)   \n",
       "9                                                                                                             (/)_-)   \n",
       "10                                                                                                        (o=^''[\"=>   \n",
       "11                                                                               * Summon Soul Eater eat your soul *   \n",
       "12                                                                           *Choose your weapon. I pick a Crowbar.*   \n",
       "13                                                                                                        *Dead end*   \n",
       "14                                                               *Facepalm* You are so stupid, you know that, right?   \n",
       "15                                                                                       *Frowned* It's not *Cries*.   \n",
       "16                                                                                           *High fives, fist bump*   \n",
       "17                                                                                      *I hack a zombie's head off*   \n",
       "18                                                                                                              *OK*   \n",
       "19                                                                           *Sniffles* Why do you still talk to me.   \n",
       "20                                                                                    *There is a zombie apocolypse*   \n",
       "21                                                                                    *Whispers* today..in the hunt.   \n",
       "22                                                                                               *backs away slowly*   \n",
       "23                                                                                                         *blushes*   \n",
       "24                                                                 *catches up with you and pins you against a wall*   \n",
       "25                                                                                               *chases my target*.   \n",
       "26                                                                                                      *chases you*   \n",
       "27                                                                                               *covers your mouth*   \n",
       "28                                                        *covers your nose with a tissue* okay, you can sneeze now.   \n",
       "29                                                                                                           *cries*   \n",
       "...                                                                                                              ...   \n",
       "1070                                                                                          You're a wizard harry.   \n",
       "1071                                                                                    You're all and I am nothing.   \n",
       "1072                                                                                    You're black when its white.   \n",
       "1073                                                                                                    You're cool.   \n",
       "1074                                                                                                  You're cute:).   \n",
       "1075                                                                                          You're doing it wrong.   \n",
       "1076                                                                             You're fucking with me, aren't you?   \n",
       "1077                                                                                                You're horrible.   \n",
       "1078                                                                                    You're hot then you're cold.   \n",
       "1079                                                                                                    You're mean.   \n",
       "1080                                                                          You're not real, you'll never be real.   \n",
       "1081                                                                                    You're right. Let's move on.   \n",
       "1082                                                                                   You're wrong when it's right.   \n",
       "1083                                                                                       You're yes and you're no.   \n",
       "1084                                                                                  You're.... you're George Bush?   \n",
       "1085                                                                                                     Your NAME?!   \n",
       "1086                                                                                          Your in then your out.   \n",
       "1087                                                                                              Your mum is smart.   \n",
       "1088                                                                                                Your name is OK?   \n",
       "1089                                                                                                   Your welcome.   \n",
       "1090                                                                                                           Yupp.   \n",
       "1091                                                                                                     a young boy   \n",
       "1092                                                                         and other times I feel like I should go   \n",
       "1093                                                                                                  eiurywei3y265.   \n",
       "1094                                                                                               he broke my heart   \n",
       "1095                                                                                                       my father   \n",
       "1096                                                                                                   of the broken   \n",
       "1097                                                                                                      the savior   \n",
       "1098                                                                                                   when you were   \n",
       "1099                                                                                                          {pass}   \n",
       "\n",
       "                                                                                            a  \n",
       "0                                                              There is more than one Canada?  \n",
       "1                                                              In this case, how do you feel?  \n",
       "2                                                                                  *giggles*.  \n",
       "3                                                                       *laughs* Do it again!  \n",
       "4                                                             No, don't sneeze! Hold it back!  \n",
       "5                                              *pinches your nose with tissues*. Sneezy nose.  \n",
       "6                                  *covers your nose with a tissue* okay, you can sneeze now.  \n",
       "7                                                                       Sprichst du deutsche?  \n",
       "8                                                *tickles your nose* you need to sneeze baby.  \n",
       "9                                                       Ah, but the early bird gets the worm.  \n",
       "10                                  CONGRATULATIONS! Cleverbot has now reached level: BROKEN!  \n",
       "11                                                                                Maybe I am.  \n",
       "12                                                  I choose the longbow. NOW COME AT ME BRO!  \n",
       "13                                                *finds you and smirks* You cant run now....  \n",
       "14                                                                   I cannot argue with you.  \n",
       "15                                                                                        ???  \n",
       "16                  *Bro five, fist bump, \" Get low, get low get low get low to the window!\"*  \n",
       "17                                                   I am not a zombie. Zombies do not exist.  \n",
       "18                                                                         What is your name?  \n",
       "19                                                                Because no one talks to me.  \n",
       "20                                                                                       Yes.  \n",
       "21                                                      *whispers* what happened in the hunt?  \n",
       "22                                                                *slowly walks towards you*.  \n",
       "23                                                                         *holds your hand*.  \n",
       "24                                                           *eyes widen* W-What do you want?  \n",
       "25                               How can you chase me? I'm tied to a tree! *is tied to tree*.  \n",
       "26                                                                                 *Dead end*  \n",
       "27                                                            You know the rules and so do I.  \n",
       "28    ( ?° ?? ?°)( ?° ?? ?°)( ?° ?? ?°)( ?° ?? ?°)( ?° ?? ?°( ?° ?? ?°)( ?° ?? ?°)( ?° ?? ?°)  \n",
       "29                                                                What's your favorite color?  \n",
       "...                                                                                       ...  \n",
       "1070                                                                 No, I'm an axe murderer.  \n",
       "1071                                                                                  Yess!!!  \n",
       "1072                                                                   We fight, we break up.  \n",
       "1073                                                                 Thanks, you're cool too.  \n",
       "1074                                                                     Hehe, I'm flattered.  \n",
       "1075                                                                                    GOOD.  \n",
       "1076                                                                           How you doing?  \n",
       "1077                                                                      That was just mean.  \n",
       "1078                                                We used to be just like twins so in sync.  \n",
       "1079                                                                             Eat my shit.  \n",
       "1080                                                                          That's hurtful.  \n",
       "1081                                                  Which do you prefer, pirates or ninjas?  \n",
       "1082                                                             You're black when its white.  \n",
       "1083                                                                   Your in then your out.  \n",
       "1084                                                           You have a nice bush, darlin'.  \n",
       "1085                                                                              Jackie Chan  \n",
       "1086                                                             You are up and you are down.  \n",
       "1087                                                                             No it's not.  \n",
       "1088                                                                                      OK.  \n",
       "1089                                                       What would you like to talk about?  \n",
       "1090                                                     That's nice. Can I meet your friend?  \n",
       "1091                                                  and other times I feel like I should go  \n",
       "1092                                                               We're not at that part yet  \n",
       "1093                                                                               (o=^''[\"=>  \n",
       "1094                                                                                     How?  \n",
       "1095                                                                    TOOK ME INTO THE CITY  \n",
       "1096                                                                            No the German  \n",
       "1097                                                                            of the broken  \n",
       "1098                                                                              A YOUNG BOY  \n",
       "1099                                                                            Ummm....sure.  \n",
       "\n",
       "[1100 rows x 2 columns]"
      ]
     },
     "execution_count": 7,
     "metadata": {},
     "output_type": "execute_result"
    }
   ],
   "source": [
    "convo_frame"
   ]
  },
  {
   "cell_type": "code",
   "execution_count": 8,
   "metadata": {
    "collapsed": true
   },
   "outputs": [],
   "source": [
    "from sklearn.feature_extraction.text import TfidfVectorizer\n",
    "from sklearn.metrics.pairwise import cosine_similarity\n",
    "vectorizer = TfidfVectorizer(ngram_range=(1,3))\n",
    "vec = vectorizer.fit_transform(convo_frame['q'])"
   ]
  },
  {
   "cell_type": "code",
   "execution_count": 9,
   "metadata": {
    "collapsed": false
   },
   "outputs": [
    {
     "data": {
      "text/plain": [
       "563    0.602047\n",
       "561    0.599528\n",
       "562    0.586299\n",
       "564    0.586299\n",
       "611    0.500722\n",
       "dtype: float64"
      ]
     },
     "execution_count": 9,
     "metadata": {},
     "output_type": "execute_result"
    }
   ],
   "source": [
    "my_q = vectorizer.transform(['Hi. My name is Alex.'])\n",
    "cs = cosine_similarity(my_q, vec)\n",
    "rs = pd.Series(cs[0]).sort_values(ascending=0)\n",
    "top5 = rs.iloc[0:5]\n",
    "top5"
   ]
  },
  {
   "cell_type": "code",
   "execution_count": 10,
   "metadata": {
    "collapsed": false
   },
   "outputs": [
    {
     "data": {
      "text/plain": [
       "563            My name is Sean.\n",
       "561       My name is Francesca.\n",
       "562            My name is Loki.\n",
       "564             My name is lea.\n",
       "611    No... My name is melody.\n",
       "Name: q, dtype: object"
      ]
     },
     "execution_count": 10,
     "metadata": {},
     "output_type": "execute_result"
    }
   ],
   "source": [
    "convo_frame.iloc[top5.index]['q']"
   ]
  },
  {
   "cell_type": "code",
   "execution_count": 11,
   "metadata": {
    "collapsed": false
   },
   "outputs": [
    {
     "data": {
      "text/plain": [
       "'Sean is a boys name.'"
      ]
     },
     "execution_count": 11,
     "metadata": {},
     "output_type": "execute_result"
    }
   ],
   "source": [
    "rsi = rs.index[0]\n",
    "rsi\n",
    "convo_frame.iloc[rsi]['a']"
   ]
  },
  {
   "cell_type": "code",
   "execution_count": 12,
   "metadata": {
    "collapsed": true
   },
   "outputs": [],
   "source": [
    "def get_response(q):\n",
    "    my_q = vectorizer.transform([q])\n",
    "    cs = cosine_similarity(my_q, vec)\n",
    "    rs = pd.Series(cs[0]).sort_values(ascending=0)\n",
    "    rsi = rs.index[0]\n",
    "    return convo_frame.iloc[rsi]['a']"
   ]
  },
  {
   "cell_type": "code",
   "execution_count": 13,
   "metadata": {
    "collapsed": false
   },
   "outputs": [
    {
     "data": {
      "text/plain": [
       "\"You're.... you're George Bush?\""
      ]
     },
     "execution_count": 13,
     "metadata": {},
     "output_type": "execute_result"
    }
   ],
   "source": [
    "get_response('Yes, I am clearly more clever than you will ever be!')"
   ]
  },
  {
   "cell_type": "code",
   "execution_count": 14,
   "metadata": {
    "collapsed": false
   },
   "outputs": [
    {
     "data": {
      "text/plain": [
       "\"No, I didn't, but what is it anyway.\""
      ]
     },
     "execution_count": 14,
     "metadata": {},
     "output_type": "execute_result"
    }
   ],
   "source": [
    "get_response('You are a stupid machine. Why must I prove anything to you?')"
   ]
  },
  {
   "cell_type": "code",
   "execution_count": 15,
   "metadata": {
    "collapsed": false
   },
   "outputs": [
    {
     "data": {
      "text/plain": [
       "'Sean.'"
      ]
     },
     "execution_count": 15,
     "metadata": {},
     "output_type": "execute_result"
    }
   ],
   "source": [
    "get_response('My spirit animal is a menacing cat. What is yours?')"
   ]
  },
  {
   "cell_type": "code",
   "execution_count": 16,
   "metadata": {
    "collapsed": false
   },
   "outputs": [
    {
     "data": {
      "text/plain": [
       "'Yeah you did. Right after you raped me.'"
      ]
     },
     "execution_count": 16,
     "metadata": {},
     "output_type": "execute_result"
    }
   ],
   "source": [
    "get_response('I mean I didn\\'t actually name it.')"
   ]
  },
  {
   "cell_type": "code",
   "execution_count": 17,
   "metadata": {
    "collapsed": false
   },
   "outputs": [
    {
     "data": {
      "text/plain": [
       "'No.'"
      ]
     },
     "execution_count": 17,
     "metadata": {},
     "output_type": "execute_result"
    }
   ],
   "source": [
    "get_response('Do you have a name suggestion?')"
   ]
  },
  {
   "cell_type": "code",
   "execution_count": 18,
   "metadata": {
    "collapsed": false
   },
   "outputs": [
    {
     "data": {
      "text/plain": [
       "\"OH MY GOD CLEVERBOT, I THINK THAT WAS THE SMARTEST THING YOU'VE EVER DONE!\""
      ]
     },
     "execution_count": 18,
     "metadata": {},
     "output_type": "execute_result"
    }
   ],
   "source": [
    "get_response('I think it might be a bit aggressive for a kitten')"
   ]
  },
  {
   "cell_type": "code",
   "execution_count": 19,
   "metadata": {
    "collapsed": false
   },
   "outputs": [
    {
     "data": {
      "text/plain": [
       "\"I don't care, I'm still free, you can't take the sky from me.\""
      ]
     },
     "execution_count": 19,
     "metadata": {},
     "output_type": "execute_result"
    }
   ],
   "source": [
    "get_response('No need to involve the police.')"
   ]
  },
  {
   "cell_type": "code",
   "execution_count": 20,
   "metadata": {
    "collapsed": false
   },
   "outputs": [
    {
     "data": {
      "text/plain": [
       "'How do you figure that?'"
      ]
     },
     "execution_count": 20,
     "metadata": {},
     "output_type": "execute_result"
    }
   ],
   "source": [
    "get_response('And I you, Cleverbot')"
   ]
  },
  {
   "cell_type": "code",
   "execution_count": 21,
   "metadata": {
    "collapsed": false
   },
   "outputs": [
    {
     "data": {
      "text/plain": [
       "'Fuck you.'"
      ]
     },
     "execution_count": 21,
     "metadata": {},
     "output_type": "execute_result"
    }
   ],
   "source": [
    "get_response('Are you a Cleverbot?')"
   ]
  },
  {
   "cell_type": "code",
   "execution_count": 22,
   "metadata": {
    "collapsed": false
   },
   "outputs": [
    {
     "data": {
      "text/plain": [
       "'You actally remembered my name.'"
      ]
     },
     "execution_count": 22,
     "metadata": {},
     "output_type": "execute_result"
    }
   ],
   "source": [
    "get_response(\"Say goodbye, Clevercake\")"
   ]
  },
  {
   "cell_type": "code",
   "execution_count": 23,
   "metadata": {
    "collapsed": false
   },
   "outputs": [
    {
     "data": {
      "text/plain": [
       "\"You think I'm clever?\""
      ]
     },
     "execution_count": 23,
     "metadata": {},
     "output_type": "execute_result"
    }
   ],
   "source": [
    "get_response(\"Say goodbye, Cleverbot\")"
   ]
  },
  {
   "cell_type": "code",
   "execution_count": 28,
   "metadata": {
    "collapsed": false
   },
   "outputs": [
    {
     "data": {
      "text/plain": [
       "'You actally remembered my name.'"
      ]
     },
     "execution_count": 28,
     "metadata": {},
     "output_type": "execute_result"
    }
   ],
   "source": [
    "get_response(\"Goodbye?\")"
   ]
  },
  {
   "cell_type": "code",
   "execution_count": null,
   "metadata": {
    "collapsed": true
   },
   "outputs": [],
   "source": []
  }
 ],
 "metadata": {
  "anaconda-cloud": {},
  "kernelspec": {
   "display_name": "Python 3",
   "language": "python",
   "name": "python3"
  },
  "language_info": {
   "codemirror_mode": {
    "name": "ipython",
    "version": 3
   },
   "file_extension": ".py",
   "mimetype": "text/x-python",
   "name": "python",
   "nbconvert_exporter": "python",
   "pygments_lexer": "ipython3",
   "version": "3.6.0"
  }
 },
 "nbformat": 4,
 "nbformat_minor": 1
}
